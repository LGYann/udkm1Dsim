{
 "cells": [
  {
   "cell_type": "markdown",
   "metadata": {},
   "source": [
    "# Disclaimer\n",
    "\n",
    "This is a dirty hack to show what the `udkm1Dsim` is already capable of and what can be reused for a 3D magnetic scattering simulation."
   ]
  },
  {
   "cell_type": "markdown",
   "metadata": {},
   "source": [
    "# Setup\n",
    "\n",
    "Do the installation (if not already done) and do the necessary imports"
   ]
  },
  {
   "cell_type": "code",
   "execution_count": null,
   "metadata": {},
   "outputs": [],
   "source": [
    "%pip install udkm1Dsim"
   ]
  },
  {
   "cell_type": "code",
   "execution_count": 1,
   "metadata": {
    "tags": []
   },
   "outputs": [],
   "source": [
    "import udkm1Dsim as ud\n",
    "u = ud.u  # import the pint unit registry from udkm1Dsim\n",
    "import numpy as np\n",
    "import matplotlib.pyplot as plt\n",
    "%matplotlib inline\n",
    "u.setup_matplotlib()  # use matplotlib with pint units"
   ]
  },
  {
   "cell_type": "markdown",
   "metadata": {},
   "source": [
    "# Building a Structure\n",
    "\n",
    "For simplicity I stick to the examples which are already included in the documentation, but of course we can easily change that to other materials, like Co/Pt multilayers, etc.\n",
    "\n",
    "I also do not explain the steps of building the sample in to much details, since this is also well explained elsewhere"
   ]
  },
  {
   "cell_type": "code",
   "execution_count": 29,
   "metadata": {
    "tags": []
   },
   "outputs": [],
   "source": [
    "Fe = ud.Atom('Fe', mag_amplitude=1, mag_phi=90*u.deg, mag_gamma=90*u.deg,\n",
    "             atomic_form_factor_path='./Fe.cf')\n",
    "# the magnetic form factor is already included as a default in the package and\n",
    "# must not be explicitly loaded. Just the charge scattering data is by default\n",
    "# from Henke or Chantler\n",
    "Cr = ud.Atom('Cr')\n",
    "Si = ud.Atom('Si')"
   ]
  },
  {
   "cell_type": "code",
   "execution_count": 3,
   "metadata": {
    "tags": []
   },
   "outputs": [],
   "source": [
    "density_Fe = 7874*u.kg/u.m**3\n",
    "\n",
    "prop_Fe = {}\n",
    "prop_Fe['heat_capacity'] = 449*u.J/u.kg/u.K\n",
    "prop_Fe['therm_cond'] = 80*u.W/(u.m *u.K)\n",
    "prop_Fe['lin_therm_exp'] = 11.8e-6\n",
    "prop_Fe['sound_vel'] = 4.910*u.nm/u.ps\n",
    "prop_Fe['opt_ref_index'] = 2.9174+3.3545j\n",
    "\n",
    "layer_Fe = ud.AmorphousLayer('Fe', 'Fe amorphous', 1*u.nm,\n",
    "                             density_Fe, atom=Fe, **prop_Fe)"
   ]
  },
  {
   "cell_type": "code",
   "execution_count": 4,
   "metadata": {
    "tags": []
   },
   "outputs": [],
   "source": [
    "density_Cr = 7140*u.kg/u.m**3\n",
    "\n",
    "prop_Cr = {}\n",
    "prop_Cr['heat_capacity'] = 449*u.J/u.kg/u.K\n",
    "prop_Cr['therm_cond'] = 94*u.W/(u.m*u.K)\n",
    "prop_Cr['lin_therm_exp'] = 6.2e-6\n",
    "prop_Cr['sound_vel'] = 5.940*u.nm/u.ps\n",
    "prop_Cr['opt_ref_index'] = 3.1612+3.4606j\n",
    "\n",
    "layer_Cr = ud.AmorphousLayer('Cr', \"Cr amorphous\", 1*u.nm, density_Cr, atom=Cr, **prop_Cr)"
   ]
  },
  {
   "cell_type": "code",
   "execution_count": 5,
   "metadata": {
    "tags": []
   },
   "outputs": [],
   "source": [
    "density_Si = 2336*u.kg/u.m**3\n",
    "\n",
    "prop_Si = {}\n",
    "prop_Si['heat_capacity'] = 703*u.J/u.kg/u.K\n",
    "prop_Si['therm_cond'] = 150*u.W/(u.m*u.K)\n",
    "prop_Si['lin_therm_exp'] = 2.6e-6\n",
    "prop_Si['sound_vel'] = 8.433*u.nm/u.ps\n",
    "prop_Si['opt_ref_index'] = 3.6941+0.0065435j\n",
    "\n",
    "layer_Si = ud.AmorphousLayer('Si', \"Si amorphous\", 1*u.nm, density_Si, atom=Si, **prop_Si)"
   ]
  },
  {
   "cell_type": "code",
   "execution_count": 6,
   "metadata": {
    "tags": []
   },
   "outputs": [],
   "source": [
    "S = ud.Structure('Fe/Cr Super Lattice')\n",
    "\n",
    "# create a sub-structure\n",
    "DL = ud.Structure('Two Fe/Cr Double Layers')\n",
    "DL.add_sub_structure(layer_Fe, 1)\n",
    "DL.add_sub_structure(layer_Cr, 1)\n",
    "\n",
    "S.add_sub_structure(DL, 30)\n",
    "S.add_sub_structure(layer_Fe, 10)\n",
    "S.add_sub_structure(layer_Si, 200)"
   ]
  },
  {
   "cell_type": "code",
   "execution_count": 7,
   "metadata": {
    "tags": []
   },
   "outputs": [
    {
     "data": {
      "image/png": "[encoded data removed]",
      "text/plain": [
       "<Figure size 1440x72 with 1 Axes>"
      ]
     },
     "metadata": {
      "needs_background": "light"
     },
     "output_type": "display_data"
    }
   ],
   "source": [
    "S.visualize()"
   ]
  },
  {
   "cell_type": "markdown",
   "metadata": {},
   "source": [
    "# 3D spin map\n",
    "\n",
    "With the 1D structure being build, we could now do some subsequent simulations, such as an $N$-temperature model, coherent phonon dynamics, a microscopic 3TM (Koopmans et al.), and I am also collaborating to implement Landau-Lifschitz-Bloch here.\n",
    "\n",
    "But since everything is still in 1D it will be only partly of help for us.\n",
    "Instead one could write a bridge, e.g. to `ubermag` in order to simulate some 3D spin profiles for some additionally given $x$- and $y$-coordinates including of course all the additional parameters, which are needed for this.\n",
    "\n",
    "Lets pretend now, that this bridge does alread exist and we get a 3D map of spins, even for different delays in time.\n",
    "This delay axis can of course also be used to sweep any other parameter, e.g. in a fitting routine.\n",
    "\n",
    "For now the `udkm1Dsim` accepts such `magnetization_maps` having three dimentions:\n",
    "1. dimension - delay time\n",
    "2. dimension - depth $z$ of the sample\n",
    "3. dimension - magnetization vector, being actually a vector $(3 \\times 1)$\n",
    "\n",
    "The code is currently `parallelized` for the first dimension since differnt delays do not depend on each other.\n",
    "The second dimension is a also a `for`-loop traversing the structure in $z$-direction from top to bottom.\n",
    "For every layer the actual reflection and transmission matrices are then calculated for a given magnetization vector and for a range of incidence angles $\\vartheta$ and photon energies $E$.\n",
    "This last step es actually `vectorized` and performes pretty well.\n",
    "\n",
    "I would now suggest to add the two more lateral dimensions as two more outer loops, which can also be parallized similar to the delay.\n",
    "1. dimension - delay time\n",
    "2. dimension - depth $x$ of the sample\n",
    "3. dimension - depth $y$ of the sample\n",
    "4. dimension - depth $z$ of the sample\n",
    "5. dimension - magnetization vector, being actually a vector $(3 \\times 1)$\n",
    "\n",
    "I do now create such a magnetization map for only one delay, and with a constant magnetization for all layers at every $x-y$ position.\n",
    "The magnetization vector is defined by a magnitude, `phi` and `gamma` angle following the definition by the `Dyna` code:"
   ]
  },
  {
   "cell_type": "code",
   "execution_count": 17,
   "metadata": {
    "tags": []
   },
   "outputs": [],
   "source": [
    "delays = [0]\n",
    "xs = np.linspace(0, 100, 10)\n",
    "ys = np.linspace(0, 100, 10)\n",
    "\n",
    "magnetization_map = np.zeros([len(delays),\n",
    "                              len(xs),\n",
    "                              len(ys),\n",
    "                              S.get_number_of_layers(), # z\n",
    "                              3])\n",
    "\n",
    "# get a list of all layers in the 1D stack along z\n",
    "handles = S.get_layer_vectors()[2]\n",
    "\n",
    "for i, x in enumerate(xs):\n",
    "    for j, y in enumerate(ys):\n",
    "        for k, handle in enumerate(handles):\n",
    "            if handle.id in ['Fe']:\n",
    "                magnetization_map[:, i, j, k, 0] = 1 # magnitude\n",
    "                magnetization_map[:, i, j, k, 1] = 0 # phi angle\n",
    "                magnetization_map[:, i, j, k, 2] = 0 # gamma angle"
   ]
  },
  {
   "cell_type": "markdown",
   "metadata": {},
   "source": [
    "# Dynamical magnetic x-ray scattering\n",
    "\n",
    "With our fancy 3D spin map in place, we can now do the calculation of the reflection and transmisison matrices at every $x-y$ position.\n",
    "I do that now only for a fixed angle and a fixed energy.\n",
    "The also directly returns the result for parallel and antiparallel alignment of $\\vec{k}$  and $\\vec{M}$ - which has the suffix `_phi`.\n",
    "Right now I am already calculating the final reflectivity for given incoming and outgoing polarizations.\n",
    "But of course one can also return the preceding $4 \\times 4$ matrices."
   ]
  },
  {
   "cell_type": "code",
   "execution_count": 27,
   "metadata": {
    "tags": []
   },
   "outputs": [
    {
     "name": "stdout",
     "output_type": "stream",
     "text": [
      "incoming polarizations set to: sigma\n",
      "analyzer polarizations set to: unpolarized\n"
     ]
    }
   ],
   "source": [
    "dyn_mag = ud.XrayDynMag(S, True)\n",
    "dyn_mag.disp_messages = False\n",
    "dyn_mag.save_data = False\n",
    "dyn_mag.progress_bar = False\n",
    "dyn_mag.set_polarization(1, 0)\n",
    "\n",
    "dyn_mag.energy = np.r_[708]*u.eV  # set two photon energies\n",
    "dyn_mag.theta = np.r_[10]*u.deg  # qz range"
   ]
  },
  {
   "cell_type": "code",
   "execution_count": 28,
   "metadata": {
    "tags": []
   },
   "outputs": [],
   "source": [
    "results = np.zeros([len(delays),\n",
    "                    len(dyn_mag.energy),\n",
    "                    len(dyn_mag.theta),\n",
    "                    len(xs),\n",
    "                    len(ys)\n",
    "                   ])\n",
    "\n",
    "for i, x in enumerate(xs):\n",
    "    for j, y in enumerate(ys):\n",
    "        xy_mag_map = magnetization_map[:, i, j, :, :]\n",
    "\n",
    "        R_seq, R_seq_phi, _, _ = dyn_mag.inhomogeneous_reflectivity(\n",
    "            magnetization_map=xy_mag_map\n",
    "        )\n",
    "        results[:, :, :, i, j] = R_seq"
   ]
  },
  {
   "cell_type": "markdown",
   "metadata": {},
   "source": [
    "Thats actually it :)"
   ]
  }
 ],
 "metadata": {
  "kernelspec": {
   "display_name": "Python 3 (ipykernel)",
   "language": "python",
   "name": "python3"
  },
  "language_info": {
   "codemirror_mode": {
    "name": "ipython",
    "version": 3
   },
   "file_extension": ".py",
   "mimetype": "text/x-python",
   "name": "python",
   "nbconvert_exporter": "python",
   "pygments_lexer": "ipython3",
   "version": "3.8.9"
  }
 },
 "nbformat": 4,
 "nbformat_minor": 4
}

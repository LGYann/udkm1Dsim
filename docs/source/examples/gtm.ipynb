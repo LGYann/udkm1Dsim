{
 "cells": [
  {
   "cell_type": "markdown",
   "id": "28d7ef42-259e-4d8e-a102-aed480775504",
   "metadata": {},
   "source": [
    "# General Transfer Matrix (GTM) Formalism Scattering\n",
    "\n",
    "In this example static light scattering simulations are carried out employing a dynamical general transfer matrix formalism which was adapted from [pyGTM](https://pygtm.readthedocs.io)."
   ]
  },
  {
   "cell_type": "markdown",
   "id": "323b30ef-4399-4f4f-8d72-a2a0c69f9221",
   "metadata": {},
   "source": [
    "## Setup\n",
    "\n",
    "Do all necessary imports and settings."
   ]
  },
  {
   "cell_type": "code",
   "execution_count": 1,
   "id": "bbd23fd3-bda4-42af-a736-15fb281bc29c",
   "metadata": {},
   "outputs": [],
   "source": [
    "import udkm1Dsim as ud\n",
    "u = ud.u  # import the pint unit registry from udkm1Dsim\n",
    "import numpy as np\n",
    "import matplotlib.pyplot as plt\n",
    "%matplotlib inline\n",
    "u.setup_matplotlib()  # use matplotlib with pint units"
   ]
  },
  {
   "cell_type": "markdown",
   "id": "d1b8e4f7-920c-4a7f-970b-c196f40c9c29",
   "metadata": {},
   "source": [
    "## Structure\n",
    "\n",
    "Refer to the [structure-example](structure.ipynb) for more details.\n",
    "\n",
    "In this example the sample `Structure` consists of `Layer`s."
   ]
  },
  {
   "cell_type": "code",
   "execution_count": 2,
   "id": "585a096f-c41f-47f1-9e4d-3fdecf9f86ce",
   "metadata": {},
   "outputs": [],
   "source": [
    "layer_air = ud.AmorphousLayer('air', \"air\", 1*u.um, 0*u.kg/u.m**3)\n",
    "layer_glass = ud.AmorphousLayer('glass', \"glass\", 1*u.um, 0*u.kg/u.m**3)\n",
    "layer_Au = ud.AmorphousLayer('Au', \"gold\", 50*u.nm, 0*u.kg/u.m**3)"
   ]
  },
  {
   "cell_type": "markdown",
   "id": "f3e8a22c-4caf-43b3-ae33-b5d2c9cfffdc",
   "metadata": {},
   "source": [
    "### Set the dielectric function"
   ]
  },
  {
   "cell_type": "code",
   "execution_count": 3,
   "id": "54e9696d-1e0f-41a8-afcb-83356d306286",
   "metadata": {},
   "outputs": [],
   "source": [
    "layer_air.epsilon = 1-0j\n",
    "layer_glass.epsilon = 1.5**2-0j"
   ]
  },
  {
   "cell_type": "code",
   "execution_count": 4,
   "id": "30f9b4c8-49fb-4ac0-8245-5ec6ad4b305e",
   "metadata": {},
   "outputs": [],
   "source": [
    "def eps_Au(f):\n",
    "    \"\"\"\n",
    "    Gold (Au) permittivity. \n",
    "\n",
    "    :param array f: frequency (array or float)\n",
    "    :return: permittivity (float or len(f)-array)\n",
    "\n",
    "    **Attention**, two models are used: a simple Drude model with parameters \n",
    "    from `Derkachova et al., Plasmonics 11, 941 (2016) (open access) \n",
    "    <http://doi.org/10.1007/s11468-015-0128-7>`_ \n",
    "    or the tabulated data from Jonhson and Christy \n",
    "    (`refractiveindex.info <https://refractiveindex.info/?shelf=main&book=Au&page=Johnson>`_)\n",
    "    You should check carefully if this works out for you. \n",
    "    \"\"\"\n",
    "    f = np.array(f)\n",
    "    import scipy.constants as constants\n",
    "    c_const = constants.physical_constants['speed of light in vacuum'][0]\n",
    "    fmin_JC = c_const/1.93e-6\n",
    "    fmax_JC = c_const/0.188e-6\n",
    "\n",
    "    #print('Using Jonhson and Christy data for Au')\n",
    "    epsAufile = './Au_Johnson_nk.csv'\n",
    "    eps_loaded = np.genfromtxt(epsAufile, delimiter='\\t',\n",
    "                               skip_header=1, unpack=True)\n",
    "\n",
    "    lbda = eps_loaded[0, :]*1e-6\n",
    "    n = eps_loaded[1,:]\n",
    "    k = eps_loaded[2,:]\n",
    "    eps1 = n**2-k**2\n",
    "    eps2 = 2*n*k\n",
    "    floc = c_const/lbda\n",
    "    epsr = np.interp(f, floc[::-1], eps1[::-1])\n",
    "    epsi = np.interp(f, floc[::-1], eps2[::-1])\n",
    "\n",
    "    return epsr+1.0j*epsi"
   ]
  },
  {
   "cell_type": "code",
   "execution_count": 5,
   "id": "a2bc2ccc-2146-4eab-b761-a828179f6f0f",
   "metadata": {},
   "outputs": [],
   "source": [
    "layer_Au.epsilon = eps_Au"
   ]
  },
  {
   "cell_type": "code",
   "execution_count": 6,
   "id": "771d8d77-3aab-413f-af2a-362e20e85945",
   "metadata": {},
   "outputs": [],
   "source": [
    "S = ud.Structure('Optical Sample')\n",
    "\n",
    "S.add_sub_structure(layer_air, 1)\n",
    "S.add_sub_structure(layer_glass, 1)"
   ]
  },
  {
   "cell_type": "markdown",
   "id": "34228336-1239-43fa-9371-f67f5d43ccee",
   "metadata": {},
   "source": [
    "## Initialize general transfer matrix simulations\n",
    "\n",
    "The `GTM` class requires a `Structure` object and a boolean `force_recalc` in order overwrite previous simulation results.\n",
    "\n",
    "These results are saved in the `cache_dir` when `save_data` is enabled.\n",
    "Printing simulation messages can be en-/disabled using `disp_messages` and progress bars can using the boolean switch `progress_bar`."
   ]
  },
  {
   "cell_type": "code",
   "execution_count": 7,
   "id": "a9ae7dc9-f569-42f0-818d-bed727f1dbdc",
   "metadata": {},
   "outputs": [],
   "source": [
    "gtm = ud.GTM(S, True)\n",
    "gtm.disp_messages = False\n",
    "gtm.save_data = False"
   ]
  },
  {
   "cell_type": "markdown",
   "id": "90d51508-c5b9-4c7a-bed5-063aa481bc1b",
   "metadata": {},
   "source": [
    "### set simulation parameters"
   ]
  },
  {
   "cell_type": "code",
   "execution_count": 8,
   "id": "39f879fa-2bd2-45c2-9aae-1996ded6640f",
   "metadata": {},
   "outputs": [],
   "source": [
    "gtm.wl = np.r_[600]*u.nm #  set two photon energies\n",
    "gtm.theta =  np.r_[1:80:0.1]*u.deg"
   ]
  },
  {
   "cell_type": "markdown",
   "id": "49c47be0-b3a6-4979-9029-71b5d88a536a",
   "metadata": {},
   "source": [
    "do the actual calculations"
   ]
  },
  {
   "cell_type": "code",
   "execution_count": 9,
   "id": "2af65285-6a70-4873-82d3-f4132249d700",
   "metadata": {},
   "outputs": [
    {
     "ename": "NameError",
     "evalue": "name 'zeta' is not defined",
     "output_type": "error",
     "traceback": [
      "\u001b[1;31m---------------------------------------------------------------------------\u001b[0m",
      "\u001b[1;31mNameError\u001b[0m                                 Traceback (most recent call last)",
      "\u001b[1;32m<ipython-input-9-ca35ab8d08f6>\u001b[0m in \u001b[0;36m<module>\u001b[1;34m\u001b[0m\n\u001b[1;32m----> 1\u001b[1;33m \u001b[0mr\u001b[0m\u001b[1;33m,\u001b[0m \u001b[0mR\u001b[0m\u001b[1;33m,\u001b[0m \u001b[0mt\u001b[0m\u001b[1;33m,\u001b[0m \u001b[0mT\u001b[0m \u001b[1;33m=\u001b[0m \u001b[0mgtm\u001b[0m\u001b[1;33m.\u001b[0m\u001b[0mcalculate_r_t\u001b[0m\u001b[1;33m(\u001b[0m\u001b[1;33m)\u001b[0m\u001b[1;33m\u001b[0m\u001b[1;33m\u001b[0m\u001b[0m\n\u001b[0m",
      "\u001b[1;32mc:\\users\\loc_schick\\general\\git\\udkm1dsim\\udkm1Dsim\\simulations\\scattering.py\u001b[0m in \u001b[0;36mcalculate_r_t\u001b[1;34m(self)\u001b[0m\n\u001b[0;32m   1039\u001b[0m         \u001b[0mself\u001b[0m\u001b[1;33m.\u001b[0m\u001b[0mzeta\u001b[0m \u001b[1;33m=\u001b[0m \u001b[0mnp\u001b[0m\u001b[1;33m.\u001b[0m\u001b[0msin\u001b[0m\u001b[1;33m(\u001b[0m\u001b[0mself\u001b[0m\u001b[1;33m.\u001b[0m\u001b[0m_theta\u001b[0m\u001b[1;33m)\u001b[0m\u001b[1;33m*\u001b[0m\u001b[0mnp\u001b[0m\u001b[1;33m.\u001b[0m\u001b[0msqrt\u001b[0m\u001b[1;33m(\u001b[0m\u001b[1;33m(\u001b[0m\u001b[0meps\u001b[0m\u001b[1;33m)\u001b[0m\u001b[1;33m)\u001b[0m\u001b[1;33m\u001b[0m\u001b[1;33m\u001b[0m\u001b[0m\n\u001b[0;32m   1040\u001b[0m \u001b[1;33m\u001b[0m\u001b[0m\n\u001b[1;32m-> 1041\u001b[1;33m         \u001b[0mGammaStar\u001b[0m \u001b[1;33m=\u001b[0m \u001b[0mself\u001b[0m\u001b[1;33m.\u001b[0m\u001b[0mcalculate_GammaStar\u001b[0m\u001b[1;33m(\u001b[0m\u001b[1;33m)\u001b[0m\u001b[1;33m\u001b[0m\u001b[1;33m\u001b[0m\u001b[0m\n\u001b[0m\u001b[0;32m   1042\u001b[0m         \u001b[1;31m# common denominator for all coefficients\u001b[0m\u001b[1;33m\u001b[0m\u001b[1;33m\u001b[0m\u001b[1;33m\u001b[0m\u001b[0m\n\u001b[0;32m   1043\u001b[0m         \u001b[0mDenom\u001b[0m \u001b[1;33m=\u001b[0m \u001b[0mGammaStar\u001b[0m\u001b[1;33m[\u001b[0m\u001b[1;33m:\u001b[0m\u001b[1;33m,\u001b[0m \u001b[1;33m:\u001b[0m\u001b[1;33m,\u001b[0m \u001b[1;36m0\u001b[0m\u001b[1;33m,\u001b[0m \u001b[1;36m0\u001b[0m\u001b[1;33m]\u001b[0m\u001b[1;33m*\u001b[0m\u001b[0mGammaStar\u001b[0m\u001b[1;33m[\u001b[0m\u001b[1;33m:\u001b[0m\u001b[1;33m,\u001b[0m \u001b[1;33m:\u001b[0m\u001b[1;33m,\u001b[0m \u001b[1;36m2\u001b[0m\u001b[1;33m,\u001b[0m \u001b[1;36m2\u001b[0m\u001b[1;33m]\u001b[0m\u001b[0;31m \u001b[0m\u001b[0;31m\\\u001b[0m\u001b[1;33m\u001b[0m\u001b[1;33m\u001b[0m\u001b[0m\n",
      "\u001b[1;32mc:\\users\\loc_schick\\general\\git\\udkm1dsim\\udkm1Dsim\\simulations\\scattering.py\u001b[0m in \u001b[0;36mcalculate_GammaStar\u001b[1;34m(self)\u001b[0m\n\u001b[0;32m    968\u001b[0m         \u001b[0mK\u001b[0m \u001b[1;33m=\u001b[0m \u001b[0mnp\u001b[0m\u001b[1;33m.\u001b[0m\u001b[0msize\u001b[0m\u001b[1;33m(\u001b[0m\u001b[0mself\u001b[0m\u001b[1;33m.\u001b[0m\u001b[0m_qz\u001b[0m\u001b[1;33m,\u001b[0m \u001b[1;36m1\u001b[0m\u001b[1;33m)\u001b[0m  \u001b[1;31m# qz steps\u001b[0m\u001b[1;33m\u001b[0m\u001b[1;33m\u001b[0m\u001b[0m\n\u001b[0;32m    969\u001b[0m \u001b[1;33m\u001b[0m\u001b[0m\n\u001b[1;32m--> 970\u001b[1;33m         Ai_super, Ki_super, Ai_inv_super, T_super = self.calculate_layer_transfer_matrix(\n\u001b[0m\u001b[0;32m    971\u001b[0m             self.S.get_layer_handle(0))\n\u001b[0;32m    972\u001b[0m         Ai_sub, Ki_sub, Ai_inv_sub, T_sub = self.calculate_layer_transfer_matrix(\n",
      "\u001b[1;32mc:\\users\\loc_schick\\general\\git\\udkm1dsim\\udkm1Dsim\\simulations\\scattering.py\u001b[0m in \u001b[0;36mcalculate_layer_transfer_matrix\u001b[1;34m(self, layer)\u001b[0m\n\u001b[0;32m    924\u001b[0m         \u001b[0mK\u001b[0m \u001b[1;33m=\u001b[0m \u001b[0mnp\u001b[0m\u001b[1;33m.\u001b[0m\u001b[0msize\u001b[0m\u001b[1;33m(\u001b[0m\u001b[0mself\u001b[0m\u001b[1;33m.\u001b[0m\u001b[0m_qz\u001b[0m\u001b[1;33m,\u001b[0m \u001b[1;36m1\u001b[0m\u001b[1;33m)\u001b[0m  \u001b[1;31m# qz steps\u001b[0m\u001b[1;33m\u001b[0m\u001b[1;33m\u001b[0m\u001b[0m\n\u001b[0;32m    925\u001b[0m         \u001b[0mmu\u001b[0m \u001b[1;33m=\u001b[0m \u001b[1;36m1\u001b[0m\u001b[1;33m\u001b[0m\u001b[1;33m\u001b[0m\u001b[0m\n\u001b[1;32m--> 926\u001b[1;33m         \u001b[0mgamma\u001b[0m\u001b[1;33m,\u001b[0m \u001b[0mqs\u001b[0m \u001b[1;33m=\u001b[0m \u001b[0mself\u001b[0m\u001b[1;33m.\u001b[0m\u001b[0mcalculate_layer_gamma\u001b[0m\u001b[1;33m(\u001b[0m\u001b[0mlayer\u001b[0m\u001b[1;33m)\u001b[0m\u001b[1;33m\u001b[0m\u001b[1;33m\u001b[0m\u001b[0m\n\u001b[0m\u001b[0;32m    927\u001b[0m \u001b[1;33m\u001b[0m\u001b[0m\n\u001b[0;32m    928\u001b[0m         \u001b[0mAi\u001b[0m \u001b[1;33m=\u001b[0m \u001b[0mnp\u001b[0m\u001b[1;33m.\u001b[0m\u001b[0mzeros\u001b[0m\u001b[1;33m(\u001b[0m\u001b[1;33m(\u001b[0m\u001b[0mN\u001b[0m\u001b[1;33m,\u001b[0m \u001b[0mK\u001b[0m\u001b[1;33m,\u001b[0m \u001b[1;36m4\u001b[0m\u001b[1;33m,\u001b[0m \u001b[1;36m4\u001b[0m\u001b[1;33m)\u001b[0m\u001b[1;33m,\u001b[0m \u001b[0mdtype\u001b[0m\u001b[1;33m=\u001b[0m\u001b[0mnp\u001b[0m\u001b[1;33m.\u001b[0m\u001b[0mcomplex128\u001b[0m\u001b[1;33m)\u001b[0m\u001b[1;33m\u001b[0m\u001b[1;33m\u001b[0m\u001b[0m\n",
      "\u001b[1;32mc:\\users\\loc_schick\\general\\git\\udkm1dsim\\udkm1Dsim\\simulations\\scattering.py\u001b[0m in \u001b[0;36mcalculate_layer_gamma\u001b[1;34m(self, layer)\u001b[0m\n\u001b[0;32m    756\u001b[0m         \u001b[0mgamma12\u001b[0m\u001b[1;33m[\u001b[0m\u001b[0midx_qs0le1\u001b[0m\u001b[1;33m]\u001b[0m \u001b[1;33m=\u001b[0m \u001b[1;36m0.0\u001b[0m \u001b[1;33m+\u001b[0m \u001b[1;36m0.0j\u001b[0m\u001b[1;33m\u001b[0m\u001b[1;33m\u001b[0m\u001b[0m\n\u001b[0;32m    757\u001b[0m         gamma13[idx_qs0le1] = -(mu*layer_epsilon_matrix[:, :, 2, 0][idx_qs0le1]\n\u001b[1;32m--> 758\u001b[1;33m                                 + zeta[idx_qs0le1]*qs[idx_qs0le1, 0]) \\\n\u001b[0m\u001b[0;32m    759\u001b[0m             \u001b[1;33m/\u001b[0m \u001b[0mmu_eps33_zeta2\u001b[0m\u001b[1;33m[\u001b[0m\u001b[0midx_qs0le1\u001b[0m\u001b[1;33m]\u001b[0m\u001b[1;33m\u001b[0m\u001b[1;33m\u001b[0m\u001b[0m\n\u001b[0;32m    760\u001b[0m \u001b[1;33m\u001b[0m\u001b[0m\n",
      "\u001b[1;31mNameError\u001b[0m: name 'zeta' is not defined"
     ]
    }
   ],
   "source": [
    "r, R, t, T = gtm.calculate_r_t()"
   ]
  },
  {
   "cell_type": "code",
   "execution_count": null,
   "id": "68f758e3-2523-45d6-a0f7-6afccf320c47",
   "metadata": {},
   "outputs": [],
   "source": [
    "plt.figure()\n",
    "plt.plot(gtm.theta[0, :], R[0, :, 0], '-b', label=r'$R_p$')\n",
    "plt.plot(gtm.theta[0, :], R[0, :, 1], '--b', label=r'$R_s$')\n",
    "plt.plot(gtm.theta[0, :], T[0, :, 0], '-r', label=r'$T_p$')\n",
    "plt.plot(gtm.theta[0, :], T[0, :, 1], '--r', label=r'$T_s$')\n",
    "plt.legend()\n",
    "plt.title('Reflectivity for $\\lambda = $ {:0.1f}'.format(gtm.wl[0]))\n",
    "plt.show()"
   ]
  },
  {
   "cell_type": "markdown",
   "id": "fe1044f0-4184-47b2-bc47-bff7cf7e6ad6",
   "metadata": {},
   "source": [
    "build new sample"
   ]
  },
  {
   "cell_type": "code",
   "execution_count": null,
   "id": "b0468485-834a-4af8-8ca9-309911fc6101",
   "metadata": {},
   "outputs": [],
   "source": [
    "gtm.wl = np.r_[400:800:1]*u.nm #  set two photon energies\n",
    "gtm.theta =  np.r_[1:80:0.5]*u.deg"
   ]
  },
  {
   "cell_type": "code",
   "execution_count": null,
   "id": "6ef35c08-48c3-4955-9ab1-c356bfed8a2f",
   "metadata": {},
   "outputs": [],
   "source": [
    "S = ud.Structure('Optical Sample Gold')\n",
    "\n",
    "S.add_sub_structure(layer_glass, 1)\n",
    "S.add_sub_structure(layer_Au, 1)\n",
    "S.add_sub_structure(layer_air, 1)\n",
    "gtm.S =S"
   ]
  },
  {
   "cell_type": "code",
   "execution_count": null,
   "id": "be78a1fa-bbcb-4069-a9a0-7ad6b69c46c4",
   "metadata": {},
   "outputs": [],
   "source": [
    "r, R, t, T = gtm.calculate_r_t()"
   ]
  },
  {
   "cell_type": "code",
   "execution_count": null,
   "id": "64612589-7a42-4c56-b726-fc241ce2e57f",
   "metadata": {},
   "outputs": [],
   "source": [
    "index = 200\n",
    "plt.figure()\n",
    "plt.plot(gtm.theta[index, :], R[index, :, 0], '-b', label=r'$R_p$')\n",
    "plt.plot(gtm.theta[index, :], R[index, :, 1], '--b', label=r'$R_s$')\n",
    "plt.plot(gtm.theta[index, :], T[index, :, 0], '-r', label=r'$T_p$')\n",
    "plt.plot(gtm.theta[index, :], T[index, :, 1], '--r', label=r'$T_s$')\n",
    "plt.legend()\n",
    "plt.title('Reflectivity for $\\lambda = $ {:0.1f}'.format(gtm.wl[index]))\n",
    "plt.xlabel('Angle of incidence (deg)')\n",
    "plt.ylabel('Reflection/Transmission')\n",
    "plt.show()"
   ]
  },
  {
   "cell_type": "code",
   "execution_count": null,
   "id": "951fe8b8-ca9e-4db7-a666-a44001c81f9c",
   "metadata": {},
   "outputs": [],
   "source": [
    "plt.figure(figsize=(12,12))\n",
    "plt.subplot(2,2,1)\n",
    "plt.pcolormesh(gtm.theta[0, :].magnitude, gtm.wl.magnitude, R[:, :, 0], shading='auto')\n",
    "plt.colorbar()\n",
    "plt.title(r'$R_p$')\n",
    "plt.xlabel('Angle of incidence (deg)')\n",
    "plt.ylabel('Wavelength (nm)')\n",
    "\n",
    "plt.subplot(2,2,2)\n",
    "plt.pcolormesh(gtm.theta[0, :].magnitude, gtm.wl.magnitude, R[:, :, 1], shading='auto')\n",
    "plt.colorbar()\n",
    "plt.title(r'$R_s$')\n",
    "plt.xlabel('Angle of incidence (deg)')\n",
    "plt.ylabel('Wavelength (nm)')\n",
    "\n",
    "plt.subplot(2,2,3)\n",
    "plt.pcolormesh(gtm.theta[0, :].magnitude, gtm.wl.magnitude, T[:, :, 0], shading='auto')\n",
    "plt.colorbar()\n",
    "plt.title(r'$T_p$')\n",
    "plt.xlabel('Angle of incidence (deg)')\n",
    "plt.ylabel('Wavelength (nm)')\n",
    "\n",
    "plt.subplot(2,2,4)\n",
    "plt.pcolormesh(gtm.theta[0, :].magnitude, gtm.wl.magnitude, T[:, :, 1], shading='auto')\n",
    "plt.colorbar()\n",
    "plt.title(r'$T_s$')\n",
    "plt.xlabel('Angle of incidence (deg)')\n",
    "plt.ylabel('Wavelength (nm)')\n",
    "\n",
    "plt.show()"
   ]
  },
  {
   "cell_type": "markdown",
   "id": "41bfd5a4-78cd-460d-9db6-f164b96b8e25",
   "metadata": {},
   "source": [
    "## Air Gap Example"
   ]
  },
  {
   "cell_type": "code",
   "execution_count": null,
   "id": "97e439ac-b4f8-4ea5-a5de-bbfaead7f090",
   "metadata": {},
   "outputs": [],
   "source": [
    "wavenumbers = np.r_[750:1050:1]/u.cm\n",
    "gtm.wl = 1/wavenumbers #  set the wavelength by wavenumber\n",
    "#gtm.frequency = gtm.frequency*1e2\n",
    "gtm.theta =  np.r_[30]*u.deg"
   ]
  },
  {
   "cell_type": "markdown",
   "id": "8cee4a28-9f75-4686-a3d9-248f495d28e8",
   "metadata": {},
   "source": [
    "use pyGTM permittivities"
   ]
  },
  {
   "cell_type": "code",
   "execution_count": null,
   "id": "658c9c4f-1779-475c-bd38-e62748a79e27",
   "metadata": {},
   "outputs": [],
   "source": [
    "import GTM.permittivities as perm\n",
    "eps_KRS5 = perm.eps_KRS5\n",
    "eps_SiC6Hx = perm.eps_SiC6Hx\n",
    "eps_SiC6Hz = perm.eps_SiC6Hz"
   ]
  },
  {
   "cell_type": "code",
   "execution_count": null,
   "id": "3265b608-4c6a-47a1-9e5c-1c46d86eaccd",
   "metadata": {},
   "outputs": [],
   "source": [
    "layer_KRS5 = ud.AmorphousLayer('KRS5', \"KRS5\", 1*u.um, 0*u.kg/u.m**3)\n",
    "layer_KRS5.epsilon = lambda f: eps_KRS5(f*1)\n",
    "layer_SiC6H = ud.AmorphousLayer('SiC6H', \"SiC6H\", 3*u.um, 0*u.kg/u.m**3)\n",
    "layer_SiC6H.epsilon = [lambda f: eps_SiC6Hx(f*1), lambda f: eps_SiC6Hx(f*1), lambda f: eps_SiC6Hz(f*1)]\n",
    "layer_air.thickness = 5.5*u.um"
   ]
  },
  {
   "cell_type": "markdown",
   "id": "6cd28a1e-c2ea-4970-a3bd-41a8bb0b5bbd",
   "metadata": {},
   "source": [
    "build the sample"
   ]
  },
  {
   "cell_type": "code",
   "execution_count": null,
   "id": "2fde318b-8faa-4047-8570-bae1338fc860",
   "metadata": {},
   "outputs": [],
   "source": [
    "S = ud.Structure('Optical Sample Gold')\n",
    "S.add_sub_structure(layer_KRS5, 1)\n",
    "S.add_sub_structure(layer_air, 1)\n",
    "S.add_sub_structure(layer_SiC6H, 1)\n",
    "gtm.S = S"
   ]
  },
  {
   "cell_type": "markdown",
   "id": "e93fc825-1d17-4378-8175-9b14e744adfe",
   "metadata": {},
   "source": [
    "calculate the reflectivity and transmission"
   ]
  },
  {
   "cell_type": "code",
   "execution_count": null,
   "id": "d2c914c3-ef1b-4786-a334-33b37dcb85c1",
   "metadata": {},
   "outputs": [],
   "source": [
    "r, R, t, T = gtm.calculate_r_t()"
   ]
  },
  {
   "cell_type": "code",
   "execution_count": null,
   "id": "b153ffe5-b622-4021-b5ce-0942c2854d38",
   "metadata": {},
   "outputs": [],
   "source": [
    "index = 0\n",
    "plt.figure()\n",
    "plt.plot(wavenumbers, R[:, index, 0], '-b', label=r'$R_p$')\n",
    "plt.title('Reflectivity for ϑ = {:0.1f}'.format(gtm.theta[0, index]))\n",
    "plt.xlabel('wavenumbers / cm)')\n",
    "plt.ylabel('Reflection/Transmission')\n",
    "plt.show()"
   ]
  }
 ],
 "metadata": {
  "kernelspec": {
   "display_name": "Python 3",
   "language": "python",
   "name": "python3"
  },
  "language_info": {
   "codemirror_mode": {
    "name": "ipython",
    "version": 3
   },
   "file_extension": ".py",
   "mimetype": "text/x-python",
   "name": "python",
   "nbconvert_exporter": "python",
   "pygments_lexer": "ipython3",
   "version": "3.8.9"
  }
 },
 "nbformat": 4,
 "nbformat_minor": 5
}
